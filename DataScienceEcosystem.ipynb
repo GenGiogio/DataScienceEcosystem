{
 "cells": [
  {
   "cell_type": "markdown",
   "id": "c20c86c5-5f4a-4273-9fbf-05c6b3c2023e",
   "metadata": {},
   "source": [
    "# Data Science Tools and Ecosystem"
   ]
  },
  {
   "cell_type": "markdown",
   "id": "ea60ae12-06f7-4e3f-ba4e-202bac68660e",
   "metadata": {},
   "source": [
    "In this notebook, Data Science Tools and Ecosystem are summarized."
   ]
  },
  {
   "cell_type": "markdown",
   "id": "07a1b327-099f-4edb-8a8f-2ae6c39aa849",
   "metadata": {},
   "source": [
    "Objectives:\n",
    "- Markdown functions:\n",
    "    - titles\n",
    "    - lists\n",
    "    - tables\n",
    "- Python:\n",
    "    - arithmetic calculations"
   ]
  },
  {
   "cell_type": "markdown",
   "id": "df9e388b-d7b0-4f3e-98d8-9420004063c0",
   "metadata": {},
   "source": [
    "Some of the popular languages that Data Scientists use are:\n",
    "- 1. Python\n",
    "- 2. R\n",
    "- 3. SQL\n"
   ]
  },
  {
   "cell_type": "markdown",
   "id": "574554df-2f88-4e4a-9a23-bd4ba56e1665",
   "metadata": {},
   "source": [
    "Some of the commonly used libraries used by Data Scientists include:\n",
    "1. Numpy\n",
    "2. matplotlib\n",
    "3. seaborn\n",
    "4. scikit-learn\n",
    "5. dlplyr"
   ]
  },
  {
   "cell_type": "markdown",
   "id": "03f29a3f-8744-4dc4-81ec-4af3216a6a8e",
   "metadata": {},
   "source": [
    "| Data Science Tools |\n",
    "| --- |\n",
    "| GitHub |\n",
    "| Apache Spark |\n",
    "| RStudio |"
   ]
  },
  {
   "cell_type": "markdown",
   "id": "620579d8-0f16-430d-8616-d8062e566ac2",
   "metadata": {},
   "source": [
    "### Below are a few examples of evaluating arithmetic expressions in Python.\n"
   ]
  },
  {
   "cell_type": "code",
   "execution_count": 4,
   "id": "6b54cfe3-00bb-476e-92a0-495f91923e2d",
   "metadata": {},
   "outputs": [
    {
     "name": "stdout",
     "output_type": "stream",
     "text": [
      "17\n"
     ]
    }
   ],
   "source": [
    "#this simple line of code multiplies two integers and performs an addition\n",
    "print(3*4+5) "
   ]
  },
  {
   "cell_type": "code",
   "execution_count": 5,
   "id": "0d600595-7f59-4c75-96b7-ec8167af8f7c",
   "metadata": {},
   "outputs": [
    {
     "name": "stdout",
     "output_type": "stream",
     "text": [
      "3.3333333333333335\n"
     ]
    }
   ],
   "source": [
    "#this converts 200 minutes (m) to hours (h) by dividing by 60.\n",
    "m = 200\n",
    "h = m/60\n",
    "print(h)"
   ]
  },
  {
   "cell_type": "markdown",
   "id": "c933217c-4f75-47c1-809a-b91a768fb9c2",
   "metadata": {},
   "source": [
    "## Author\n",
    "Georg Fasching"
   ]
  }
 ],
 "metadata": {
  "kernelspec": {
   "display_name": "Python 3 (ipykernel)",
   "language": "python",
   "name": "python3"
  },
  "language_info": {
   "codemirror_mode": {
    "name": "ipython",
    "version": 3
   },
   "file_extension": ".py",
   "mimetype": "text/x-python",
   "name": "python",
   "nbconvert_exporter": "python",
   "pygments_lexer": "ipython3",
   "version": "3.10.8"
  }
 },
 "nbformat": 4,
 "nbformat_minor": 5
}
